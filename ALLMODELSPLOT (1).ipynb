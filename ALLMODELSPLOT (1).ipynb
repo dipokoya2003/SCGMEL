{
  "cells": [
    {
      "cell_type": "code",
      "source": [
        "from google.colab import drive\n",
        "drive.mount('/content/drive')"
      ],
      "metadata": {
        "colab": {
          "base_uri": "https://localhost:8080/"
        },
        "id": "3kCapEJ_-e-4",
        "outputId": "5995e4f0-c809-416f-fb7e-1f3040f3971d"
      },
      "execution_count": null,
      "outputs": [
        {
          "output_type": "stream",
          "name": "stdout",
          "text": [
            "Mounted at /content/drive\n"
          ]
        }
      ]
    },
    {
      "cell_type": "code",
      "execution_count": null,
      "metadata": {
        "id": "II5kXVJ06ZIv",
        "colab": {
          "base_uri": "https://localhost:8080/"
        },
        "outputId": "1bf02c27-dc36-45b3-e90f-c28ef25cbb4c"
      },
      "outputs": [
        {
          "output_type": "stream",
          "name": "stdout",
          "text": [
            "\u001b[K     |████████████████████████████████| 76.6 MB 1.2 MB/s \n",
            "\u001b[?25h"
          ]
        }
      ],
      "source": [
        "!pip install catboost -q"
      ]
    },
    {
      "cell_type": "code",
      "execution_count": null,
      "metadata": {
        "id": "2g9BkbqhHeDd"
      },
      "outputs": [],
      "source": [
        "import numpy as np\n",
        "import pandas as pd\n",
        "import shutil\n",
        "import seaborn as sns\n",
        "from time import time\n",
        "from tqdm import tqdm\n",
        "from sklearn.model_selection import train_test_split\n",
        "import matplotlib.pyplot as plt\n",
        "#from sklearn.preprocessing import One_Hot_Encoder\n",
        "from sklearn.metrics import accuracy_score"
      ]
    },
    {
      "cell_type": "code",
      "execution_count": null,
      "metadata": {
        "id": "1D4xIcazGrsd"
      },
      "outputs": [],
      "source": [
        "data=pd.read_csv('/content/drive/MyDrive/rcgautograd1.csv')\n"
      ]
    },
    {
      "cell_type": "code",
      "source": [
        "data"
      ],
      "metadata": {
        "colab": {
          "base_uri": "https://localhost:8080/",
          "height": 424
        },
        "id": "qMF21BPY_Fw9",
        "outputId": "2a30c8e8-5b0f-4f59-9d3b-42f32bc0589c"
      },
      "execution_count": null,
      "outputs": [
        {
          "output_type": "execute_result",
          "data": {
            "text/plain": [
              "      input_0  input_1  input_2  input_3  input_4  output_0  output_1  \\\n",
              "0        10.0     12.0      0.0     17.0     11.0       2.0      14.0   \n",
              "1         2.0      1.0     16.0     13.0      9.0       5.0       2.0   \n",
              "2        10.0     18.0     14.0     13.0      5.0       5.0      10.0   \n",
              "3        18.0     11.0      0.0     16.0     20.0       2.0       9.0   \n",
              "4        20.0     16.0      3.0     11.0     10.0       1.0      14.0   \n",
              "...       ...      ...      ...      ...      ...       ...       ...   \n",
              "2495     14.0     12.0      3.0     20.0      5.0       2.0      17.0   \n",
              "2496      6.0      3.0     19.0     14.0      7.0       3.0       6.0   \n",
              "2497      2.0     13.0     20.0      3.0     19.0       7.0       2.0   \n",
              "2498      4.0     16.0      5.0      8.0     20.0      18.0       1.0   \n",
              "2499      3.0     19.0      5.0      9.0     12.0       2.0      17.0   \n",
              "\n",
              "      output_2  output_3  output_4  \n",
              "0          9.0      20.0       5.0  \n",
              "1          9.0      20.0      16.0  \n",
              "2         13.0      14.0      18.0  \n",
              "3         16.0      18.0      20.0  \n",
              "4          9.0      15.0      20.0  \n",
              "...        ...       ...       ...  \n",
              "2495      20.0       7.0      19.0  \n",
              "2496       7.0      14.0      19.0  \n",
              "2497      13.0      19.0      20.0  \n",
              "2498       8.0      16.0      20.0  \n",
              "2499       7.0      20.0      13.0  \n",
              "\n",
              "[2500 rows x 10 columns]"
            ],
            "text/html": [
              "\n",
              "  <div id=\"df-dcb07e7f-9db8-4511-9d55-306679bd9aea\">\n",
              "    <div class=\"colab-df-container\">\n",
              "      <div>\n",
              "<style scoped>\n",
              "    .dataframe tbody tr th:only-of-type {\n",
              "        vertical-align: middle;\n",
              "    }\n",
              "\n",
              "    .dataframe tbody tr th {\n",
              "        vertical-align: top;\n",
              "    }\n",
              "\n",
              "    .dataframe thead th {\n",
              "        text-align: right;\n",
              "    }\n",
              "</style>\n",
              "<table border=\"1\" class=\"dataframe\">\n",
              "  <thead>\n",
              "    <tr style=\"text-align: right;\">\n",
              "      <th></th>\n",
              "      <th>input_0</th>\n",
              "      <th>input_1</th>\n",
              "      <th>input_2</th>\n",
              "      <th>input_3</th>\n",
              "      <th>input_4</th>\n",
              "      <th>output_0</th>\n",
              "      <th>output_1</th>\n",
              "      <th>output_2</th>\n",
              "      <th>output_3</th>\n",
              "      <th>output_4</th>\n",
              "    </tr>\n",
              "  </thead>\n",
              "  <tbody>\n",
              "    <tr>\n",
              "      <th>0</th>\n",
              "      <td>10.0</td>\n",
              "      <td>12.0</td>\n",
              "      <td>0.0</td>\n",
              "      <td>17.0</td>\n",
              "      <td>11.0</td>\n",
              "      <td>2.0</td>\n",
              "      <td>14.0</td>\n",
              "      <td>9.0</td>\n",
              "      <td>20.0</td>\n",
              "      <td>5.0</td>\n",
              "    </tr>\n",
              "    <tr>\n",
              "      <th>1</th>\n",
              "      <td>2.0</td>\n",
              "      <td>1.0</td>\n",
              "      <td>16.0</td>\n",
              "      <td>13.0</td>\n",
              "      <td>9.0</td>\n",
              "      <td>5.0</td>\n",
              "      <td>2.0</td>\n",
              "      <td>9.0</td>\n",
              "      <td>20.0</td>\n",
              "      <td>16.0</td>\n",
              "    </tr>\n",
              "    <tr>\n",
              "      <th>2</th>\n",
              "      <td>10.0</td>\n",
              "      <td>18.0</td>\n",
              "      <td>14.0</td>\n",
              "      <td>13.0</td>\n",
              "      <td>5.0</td>\n",
              "      <td>5.0</td>\n",
              "      <td>10.0</td>\n",
              "      <td>13.0</td>\n",
              "      <td>14.0</td>\n",
              "      <td>18.0</td>\n",
              "    </tr>\n",
              "    <tr>\n",
              "      <th>3</th>\n",
              "      <td>18.0</td>\n",
              "      <td>11.0</td>\n",
              "      <td>0.0</td>\n",
              "      <td>16.0</td>\n",
              "      <td>20.0</td>\n",
              "      <td>2.0</td>\n",
              "      <td>9.0</td>\n",
              "      <td>16.0</td>\n",
              "      <td>18.0</td>\n",
              "      <td>20.0</td>\n",
              "    </tr>\n",
              "    <tr>\n",
              "      <th>4</th>\n",
              "      <td>20.0</td>\n",
              "      <td>16.0</td>\n",
              "      <td>3.0</td>\n",
              "      <td>11.0</td>\n",
              "      <td>10.0</td>\n",
              "      <td>1.0</td>\n",
              "      <td>14.0</td>\n",
              "      <td>9.0</td>\n",
              "      <td>15.0</td>\n",
              "      <td>20.0</td>\n",
              "    </tr>\n",
              "    <tr>\n",
              "      <th>...</th>\n",
              "      <td>...</td>\n",
              "      <td>...</td>\n",
              "      <td>...</td>\n",
              "      <td>...</td>\n",
              "      <td>...</td>\n",
              "      <td>...</td>\n",
              "      <td>...</td>\n",
              "      <td>...</td>\n",
              "      <td>...</td>\n",
              "      <td>...</td>\n",
              "    </tr>\n",
              "    <tr>\n",
              "      <th>2495</th>\n",
              "      <td>14.0</td>\n",
              "      <td>12.0</td>\n",
              "      <td>3.0</td>\n",
              "      <td>20.0</td>\n",
              "      <td>5.0</td>\n",
              "      <td>2.0</td>\n",
              "      <td>17.0</td>\n",
              "      <td>20.0</td>\n",
              "      <td>7.0</td>\n",
              "      <td>19.0</td>\n",
              "    </tr>\n",
              "    <tr>\n",
              "      <th>2496</th>\n",
              "      <td>6.0</td>\n",
              "      <td>3.0</td>\n",
              "      <td>19.0</td>\n",
              "      <td>14.0</td>\n",
              "      <td>7.0</td>\n",
              "      <td>3.0</td>\n",
              "      <td>6.0</td>\n",
              "      <td>7.0</td>\n",
              "      <td>14.0</td>\n",
              "      <td>19.0</td>\n",
              "    </tr>\n",
              "    <tr>\n",
              "      <th>2497</th>\n",
              "      <td>2.0</td>\n",
              "      <td>13.0</td>\n",
              "      <td>20.0</td>\n",
              "      <td>3.0</td>\n",
              "      <td>19.0</td>\n",
              "      <td>7.0</td>\n",
              "      <td>2.0</td>\n",
              "      <td>13.0</td>\n",
              "      <td>19.0</td>\n",
              "      <td>20.0</td>\n",
              "    </tr>\n",
              "    <tr>\n",
              "      <th>2498</th>\n",
              "      <td>4.0</td>\n",
              "      <td>16.0</td>\n",
              "      <td>5.0</td>\n",
              "      <td>8.0</td>\n",
              "      <td>20.0</td>\n",
              "      <td>18.0</td>\n",
              "      <td>1.0</td>\n",
              "      <td>8.0</td>\n",
              "      <td>16.0</td>\n",
              "      <td>20.0</td>\n",
              "    </tr>\n",
              "    <tr>\n",
              "      <th>2499</th>\n",
              "      <td>3.0</td>\n",
              "      <td>19.0</td>\n",
              "      <td>5.0</td>\n",
              "      <td>9.0</td>\n",
              "      <td>12.0</td>\n",
              "      <td>2.0</td>\n",
              "      <td>17.0</td>\n",
              "      <td>7.0</td>\n",
              "      <td>20.0</td>\n",
              "      <td>13.0</td>\n",
              "    </tr>\n",
              "  </tbody>\n",
              "</table>\n",
              "<p>2500 rows × 10 columns</p>\n",
              "</div>\n",
              "      <button class=\"colab-df-convert\" onclick=\"convertToInteractive('df-dcb07e7f-9db8-4511-9d55-306679bd9aea')\"\n",
              "              title=\"Convert this dataframe to an interactive table.\"\n",
              "              style=\"display:none;\">\n",
              "        \n",
              "  <svg xmlns=\"http://www.w3.org/2000/svg\" height=\"24px\"viewBox=\"0 0 24 24\"\n",
              "       width=\"24px\">\n",
              "    <path d=\"M0 0h24v24H0V0z\" fill=\"none\"/>\n",
              "    <path d=\"M18.56 5.44l.94 2.06.94-2.06 2.06-.94-2.06-.94-.94-2.06-.94 2.06-2.06.94zm-11 1L8.5 8.5l.94-2.06 2.06-.94-2.06-.94L8.5 2.5l-.94 2.06-2.06.94zm10 10l.94 2.06.94-2.06 2.06-.94-2.06-.94-.94-2.06-.94 2.06-2.06.94z\"/><path d=\"M17.41 7.96l-1.37-1.37c-.4-.4-.92-.59-1.43-.59-.52 0-1.04.2-1.43.59L10.3 9.45l-7.72 7.72c-.78.78-.78 2.05 0 2.83L4 21.41c.39.39.9.59 1.41.59.51 0 1.02-.2 1.41-.59l7.78-7.78 2.81-2.81c.8-.78.8-2.07 0-2.86zM5.41 20L4 18.59l7.72-7.72 1.47 1.35L5.41 20z\"/>\n",
              "  </svg>\n",
              "      </button>\n",
              "      \n",
              "  <style>\n",
              "    .colab-df-container {\n",
              "      display:flex;\n",
              "      flex-wrap:wrap;\n",
              "      gap: 12px;\n",
              "    }\n",
              "\n",
              "    .colab-df-convert {\n",
              "      background-color: #E8F0FE;\n",
              "      border: none;\n",
              "      border-radius: 50%;\n",
              "      cursor: pointer;\n",
              "      display: none;\n",
              "      fill: #1967D2;\n",
              "      height: 32px;\n",
              "      padding: 0 0 0 0;\n",
              "      width: 32px;\n",
              "    }\n",
              "\n",
              "    .colab-df-convert:hover {\n",
              "      background-color: #E2EBFA;\n",
              "      box-shadow: 0px 1px 2px rgba(60, 64, 67, 0.3), 0px 1px 3px 1px rgba(60, 64, 67, 0.15);\n",
              "      fill: #174EA6;\n",
              "    }\n",
              "\n",
              "    [theme=dark] .colab-df-convert {\n",
              "      background-color: #3B4455;\n",
              "      fill: #D2E3FC;\n",
              "    }\n",
              "\n",
              "    [theme=dark] .colab-df-convert:hover {\n",
              "      background-color: #434B5C;\n",
              "      box-shadow: 0px 1px 3px 1px rgba(0, 0, 0, 0.15);\n",
              "      filter: drop-shadow(0px 1px 2px rgba(0, 0, 0, 0.3));\n",
              "      fill: #FFFFFF;\n",
              "    }\n",
              "  </style>\n",
              "\n",
              "      <script>\n",
              "        const buttonEl =\n",
              "          document.querySelector('#df-dcb07e7f-9db8-4511-9d55-306679bd9aea button.colab-df-convert');\n",
              "        buttonEl.style.display =\n",
              "          google.colab.kernel.accessAllowed ? 'block' : 'none';\n",
              "\n",
              "        async function convertToInteractive(key) {\n",
              "          const element = document.querySelector('#df-dcb07e7f-9db8-4511-9d55-306679bd9aea');\n",
              "          const dataTable =\n",
              "            await google.colab.kernel.invokeFunction('convertToInteractive',\n",
              "                                                     [key], {});\n",
              "          if (!dataTable) return;\n",
              "\n",
              "          const docLinkHtml = 'Like what you see? Visit the ' +\n",
              "            '<a target=\"_blank\" href=https://colab.research.google.com/notebooks/data_table.ipynb>data table notebook</a>'\n",
              "            + ' to learn more about interactive tables.';\n",
              "          element.innerHTML = '';\n",
              "          dataTable['output_type'] = 'display_data';\n",
              "          await google.colab.output.renderOutput(dataTable, element);\n",
              "          const docLink = document.createElement('div');\n",
              "          docLink.innerHTML = docLinkHtml;\n",
              "          element.appendChild(docLink);\n",
              "        }\n",
              "      </script>\n",
              "    </div>\n",
              "  </div>\n",
              "  "
            ]
          },
          "metadata": {},
          "execution_count": 11
        }
      ]
    },
    {
      "cell_type": "code",
      "execution_count": null,
      "metadata": {
        "id": "LKaXBWUU4D74"
      },
      "outputs": [],
      "source": [
        "input=data[data.columns[:5]]\n",
        "output=data[data.columns[-5:]]"
      ]
    },
    {
      "cell_type": "code",
      "execution_count": null,
      "metadata": {
        "id": "kSAkE1V_BsFM"
      },
      "outputs": [],
      "source": [
        "X=np.zeros((input.shape[0],21))\n",
        "y=np.zeros((input.shape[0],21),'int16')\n",
        "for ind,x in enumerate(input.values.astype(int)):\n",
        "  X[ind,x]=1#range(1,6)[::-1]\n",
        "for ind,n in enumerate(output.values.astype(int)):\n",
        "  y[ind,n]=1"
      ]
    },
    {
      "cell_type": "code",
      "source": [
        "y[0]"
      ],
      "metadata": {
        "colab": {
          "base_uri": "https://localhost:8080/"
        },
        "id": "q_clxNpa_tx0",
        "outputId": "a711b2b0-759e-4e42-d33a-073886e0536c"
      },
      "execution_count": null,
      "outputs": [
        {
          "output_type": "execute_result",
          "data": {
            "text/plain": [
              "array([0, 0, 1, 0, 0, 1, 0, 0, 0, 1, 0, 0, 0, 0, 1, 0, 0, 0, 0, 0, 1],\n",
              "      dtype=int16)"
            ]
          },
          "metadata": {},
          "execution_count": 10
        }
      ]
    },
    {
      "cell_type": "code",
      "execution_count": null,
      "metadata": {
        "id": "ES6nTDk3CPVK"
      },
      "outputs": [],
      "source": [
        "def my_metric(pred,actual):\n",
        "  number=[]\n",
        "  for ind,pre in enumerate(pred):\n",
        "    act=np.argsort(actual[ind])[-5:]\n",
        "    number.append(np.isin(act,pre).sum())\n",
        "  return np.mean(number)\n",
        "def top_5(value):\n",
        "  li=[]\n",
        "  for val in value:\n",
        "    li.append(list(np.argsort(val)[-5:]))\n",
        "  return li"
      ]
    },
    {
      "cell_type": "code",
      "execution_count": null,
      "metadata": {
        "id": "r5rhYlN5Inlw"
      },
      "outputs": [],
      "source": [
        "from sklearn.model_selection import train_test_split\n",
        "from sklearn.metrics import mean_squared_error\n",
        "import lightgbm as lgb\n",
        "from catboost import CatBoostClassifier\n",
        "from sklearn.ensemble import VotingClassifier\n",
        "from sklearn.ensemble import RandomForestClassifier\n",
        "from xgboost import XGBClassifier\n",
        "from sklearn.linear_model import LogisticRegression\n",
        "from sklearn.multioutput import MultiOutputClassifier\n",
        "X_train, X_test, y_train, y_test = train_test_split(X, y, test_size=0.3, random_state=42,shuffle=True)\n",
        "actual_locs=top_5(y_test)"
      ]
    },
    {
      "cell_type": "code",
      "execution_count": null,
      "metadata": {
        "id": "ANrQsppHy52c"
      },
      "outputs": [],
      "source": [
        "train=np.concatenate([X_train,y_train[:,0].reshape(-1,1)],axis=1)"
      ]
    },
    {
      "cell_type": "code",
      "execution_count": null,
      "metadata": {
        "id": "ZvmNVHrDGFug"
      },
      "outputs": [],
      "source": [
        "from random import seed\n",
        "from random import randrange\n",
        "from csv import reader\n",
        "from math import sqrt\n",
        "\n",
        "# calculate the Euclidean distance between two vectors\n",
        "def euclidean_distance(row1, row2):\n",
        "    distance = 0.0\n",
        "    for i in range(len(row1)-1):\n",
        "        distance += (row1[i] - row2[i])**2\n",
        "    return sqrt(distance)\n",
        "\n",
        "# Locate the best matching unit\n",
        "def get_best_matching_unit(codebooks, test_row):\n",
        "    distances = list()\n",
        "    for codebook in codebooks:\n",
        "        dist = euclidean_distance(codebook, test_row)\n",
        "        distances.append((codebook, dist))\n",
        "    distances.sort(key=lambda tup: tup[1])\n",
        "    return distances[0][0]\n",
        "def get_best_k_matching_units(codebooks,test_row,k):\n",
        "  distances = list()\n",
        "  for codebook in codebooks:\n",
        "      dist = euclidean_distance(codebook, test_row)\n",
        "      distances.append((codebook, dist))\n",
        "  distances.sort(key=lambda tup: tup[1])\n",
        "  return distances[:k]\n",
        "def get_closest_1(codebooks,test_row):\n",
        "  distances = list()\n",
        "  for codebook in codebooks :\n",
        "    if codebook[-1]==1:\n",
        "      dist = euclidean_distance(codebook, test_row)\n",
        "      distances.append((codebook, dist))\n",
        "  distances.sort(key=lambda tup: tup[1])\n",
        "  return distances[0][1]\n",
        "# Make a prediction with codebook vectors\n",
        "def predict_best(codebooks, test_row):\n",
        "    bmu = get_best_matching_unit(codebooks, test_row)\n",
        "    return bmu[-1]\n",
        "\n",
        "# Create a random c lol ppq0qqqqodebook vector\n",
        "def random_codebook(train,n_codebooks):\n",
        "    code_indices=np.random.choice(range(train.shape[0]),n_codebooks,replace=False)\n",
        "    codebooks=train[code_indices]\n",
        "    return codebooks\n",
        "\n",
        "# Train a set of codebook vectors\n",
        "def train_codebooks(train, self):\n",
        "    codebooks=random_codebook(train,self.n_codebooks)\n",
        "    for epoch in range(self.n_epochs):\n",
        "        rate = self.lr * (1.0-(epoch/float(self.n_epochs)))\n",
        "        for row in train:\n",
        "            bmu = get_best_matching_unit(codebooks, row)\n",
        "            for i in range(len(row)-1):\n",
        "                error = row[i] - bmu[i]\n",
        "                if bmu[-1] == row[-1]:\n",
        "                    bmu[i] += rate * error\n",
        "                else:\n",
        "                    bmu[i] -= rate * error\n",
        "    return codebooks\n",
        "\n",
        "# LVQ Algorithm\n",
        "n_folds = 5\n",
        "learn_rate = 0.3\n",
        "n_epochs = 50\n",
        "n_codebooks = 20"
      ]
    },
    {
      "cell_type": "code",
      "execution_count": null,
      "metadata": {
        "id": "H53Y8XkLuv4g"
      },
      "outputs": [],
      "source": [
        "class LVQ():\n",
        "  def __init__(self,n_codebooks=50,k=10,n_epochs=10,lr=0.3,seed=42):\n",
        "        self.n_codebooks = n_codebooks\n",
        "        self.n_epochs = n_epochs\n",
        "        self.k = k\n",
        "        self.lr = lr\n",
        "        self.seed=seed\n",
        "  def fit(self,X_train,y_train):\n",
        "    train=np.concatenate([X_train,y_train.reshape(-1,1)],axis=1)\n",
        "    np.random.seed(self.seed)\n",
        "    trained_codebooks=train_codebooks(train,self)\n",
        "    self.trained_codebooks=trained_codebooks\n",
        "    return trained_codebooks\n",
        "    #return trained_codebooks[:,-1]\n",
        "  def predict(self,test_X):\n",
        "    self.preds=np.zeros(test_X.shape[0])\n",
        "    for num,test_row in enumerate(test_X):\n",
        "        self.preds[num]=predict_best(self.trained_codebooks,test_row)\n",
        "    return self.preds\n",
        "  def predict_distances(self,test_X):\n",
        "    k_closest=np.zeros((test_X.shape[0],self.k))\n",
        "    for num,test_row in enumerate(test_X):\n",
        "        k_best=get_best_k_matching_units(self.trained_codebooks,test_row,self.k)\n",
        "        for ind,dist in enumerate(k_best):\n",
        "          if dist[0][-1]==0:\n",
        "            k_closest[num,ind]=dist[1]*-1\n",
        "          else :\n",
        "            k_closest[num,ind]=dist[1]\n",
        "    return k_closest\n",
        "  def predict_proba(self,test_X):\n",
        "    closest=np.zeros((test_X.shape[0]))\n",
        "    for num,test_row in enumerate(test_X):\n",
        "        closest[num]=1/(get_closest_1(self.trained_codebooks,test_row))\n",
        "    return closest"
      ]
    },
    {
      "cell_type": "code",
      "execution_count": null,
      "metadata": {
        "id": "Ke_P-uQKxeR1"
      },
      "outputs": [],
      "source": [
        "class multi_class():\n",
        "  def __init__(self,model):\n",
        "        self.n_codebooks = model.n_codebooks\n",
        "        self.n_epochs = model.n_epochs\n",
        "        self.k = model.k\n",
        "        self.lr = model.lr\n",
        "        self.seed=model.seed\n",
        "        self.model=model\n",
        "        self.codebooks=[]\n",
        "  def fit(self,X,y):\n",
        "    self.n_classes=y.shape[1]\n",
        "    for num in tqdm(range(y.shape[1])):\n",
        "      model=self.model\n",
        "      model=model.fit(X,y[:,num])\n",
        "      self.codebooks.append(model)\n",
        "  def predict(self,test):\n",
        "    preds=np.zeros((test.shape[0],self.n_classes))\n",
        "    for num,codebook in enumerate(self.codebooks):\n",
        "      for ind,test_row in enumerate(test):\n",
        "        bmu = get_best_matching_unit(codebook, test_row)\n",
        "        preds[ind,num]=bmu[-1]\n",
        "    return preds\n",
        "  def predict_proba(self,test_X):\n",
        "    preds=np.zeros((test_X.shape[0],self.n_classes))\n",
        "    for num,model in enumerate(self.codebooks):\n",
        "      for ind,test_row in enumerate(test_X):\n",
        "        preds[ind,num]=1/(get_closest_1(model,test_row))\n",
        "    return preds"
      ]
    },
    {
      "cell_type": "code",
      "execution_count": null,
      "metadata": {
        "colab": {
          "base_uri": "https://localhost:8080/"
        },
        "id": "fkqY1ncAeqm-",
        "outputId": "e8ae4f3b-47e0-4272-c976-65e5a2e0e2de"
      },
      "outputs": [
        {
          "output_type": "stream",
          "name": "stdout",
          "text": [
            "Mean no of accurate locations for test  1.0826666666666667\n"
          ]
        }
      ],
      "source": [
        "# creating dummy_model i.e random predictions\n",
        "import random,numpy\n",
        "# seeding the environment to enable reproductibility of results\n",
        "seed=12\n",
        "np.random.seed(seed)\n",
        "rand_cities =np.random.choice(range(y_train.shape[1]),(X_test.shape[0],5))\n",
        "random_test_score=my_metric(rand_cities,y_test)\n",
        "print(\"Mean no of accurate locations for test \",random_test_score )"
      ]
    },
    {
      "cell_type": "code",
      "source": [
        "def eval_model(model):\n",
        "  test_acc=accuracy_score(y_test.reshape(-1),model.predict(X_test).reshape(-1))\n",
        "  train_acc=accuracy_score(y_train.reshape(-1),model.predict(X_train).reshape(-1))\n",
        "  return test_acc,train_acc"
      ],
      "metadata": {
        "id": "FEMRptOCbJdy"
      },
      "execution_count": null,
      "outputs": []
    },
    {
      "cell_type": "code",
      "execution_count": null,
      "metadata": {
        "id": "wmou0McLDkrR"
      },
      "outputs": [],
      "source": [
        "fit_time=[]\n",
        "predict_time=[]\n",
        "models=[]\n",
        "test_scores=[]\n",
        "train_scores=[]\n",
        "test_acc=[]\n",
        "train_acc=[]\n",
        "descr=[]\n",
        "def save_model_info(fit,predict,model,test_score,train_score,train,test,desc):\n",
        "  fit_time.append(fit)\n",
        "  predict_time.append(predict)\n",
        "  models.append(model)\n",
        "  test_acc.append(test)\n",
        "  train_acc.append(train)\n",
        "  test_scores.append(test_score)\n",
        "  train_scores.append(train_score)\n",
        "  descr.append(desc)"
      ]
    },
    {
      "cell_type": "code",
      "source": [
        "%%capture\n",
        "#import futures\n",
        "'''executor = futures.ProcessPoolExecutor(10)\n",
        "futures = [executor.submit(try_my_operation, item) for item in items]\n",
        "futures.wait(futures)'''"
      ],
      "metadata": {
        "id": "MD1eHFboNnsI"
      },
      "execution_count": null,
      "outputs": []
    },
    {
      "cell_type": "code",
      "execution_count": null,
      "metadata": {
        "colab": {
          "base_uri": "https://localhost:8080/"
        },
        "id": "CSwy59uD7zmy",
        "outputId": "48aae1df-db66-4b06-bd60-272e135609a1"
      },
      "outputs": [
        {
          "output_type": "stream",
          "name": "stderr",
          "text": [
            "100%|██████████| 21/21 [08:29<00:00, 24.26s/it]\n"
          ]
        },
        {
          "output_type": "stream",
          "name": "stdout",
          "text": [
            "Mean no of accurate locations for test  3.3586666666666667\n",
            "Mean no of accurate locations for train  3.693142857142857\n",
            "The test accuracy score for mcLVQ is  0.9128435374149659\n",
            "The train accuracy score for mcLVQ is  0.8573968253968254\n"
          ]
        }
      ],
      "source": [
        "lv=LVQ(n_codebooks=50,lr=0.2,n_epochs=20)\n",
        "mcLVQ=multi_class(lv)\n",
        "start_fit=time()\n",
        "mcLVQ.fit(X_train,y_train)\n",
        "end_fit=time()\n",
        "lvq_proba=mcLVQ.predict_proba(X_test)\n",
        "lvq_train_proba=mcLVQ.predict_proba(X_train)\n",
        "end_pred=time()\n",
        "predicted_locs=top_5(lvq_proba)\n",
        "test_score=my_metric(predicted_locs,y_test)\n",
        "train_score=my_metric(top_5(lvq_train_proba),y_train)\n",
        "print(\"Mean no of accurate locations for test \",test_score)\n",
        "print(\"Mean no of accurate locations for train \",train_score)\n",
        "train_accuracy,test_accuracy=eval_model(mcLVQ)\n",
        "print(\"The test accuracy score for mcLVQ is \",test_accuracy)\n",
        "print(\"The train accuracy score for mcLVQ is \",train_accuracy)\n",
        "save_model_info(end_fit-start_fit,end_pred-end_fit,'mcLVQ',test_score,train_score,train_accuracy,test_accuracy,'lvq model with 50 codebooks')"
      ]
    },
    {
      "cell_type": "code",
      "execution_count": null,
      "metadata": {
        "id": "Hcw2JuJLIpkF",
        "colab": {
          "base_uri": "https://localhost:8080/"
        },
        "outputId": "900ad7bb-fac0-4b5c-87d7-e7ffa4c8a000"
      },
      "outputs": [
        {
          "output_type": "stream",
          "name": "stdout",
          "text": [
            "Mean no of accurate locations for test  3.328\n",
            "Mean no of accurate locations for train  3.334285714285714\n",
            "The test accuracy score for knn is  0.8276190476190476\n",
            "The train accuracy score for knn is  0.8281904761904761\n"
          ]
        }
      ],
      "source": [
        "from sklearn.neighbors import KNeighborsClassifier\n",
        "kn=KNeighborsClassifier(n_neighbors=150)\n",
        "knn=MultiOutputClassifier(kn)\n",
        "start_fit=time()\n",
        "knn.fit(X_train,y_train)\n",
        "end_fit=time()\n",
        "knn_proba=np.stack(knn.predict_proba(X_test), axis=1 )[:,:,1]\n",
        "knn_train_proba=np.stack(knn.predict_proba(X_train), axis=1 )[:,:,1]\n",
        "end_pred=time()\n",
        "predicted_locs=top_5(knn_proba)\n",
        "test_score=my_metric(predicted_locs,y_test)\n",
        "train_score=my_metric(top_5(knn_train_proba),y_train)\n",
        "print(\"Mean no of accurate locations for test \",test_score)\n",
        "print(\"Mean no of accurate locations for train \",train_score)\n",
        "train_accuracy,test_accuracy=eval_model(knn)\n",
        "print(\"The test accuracy score for knn is \",test_accuracy)\n",
        "print(\"The train accuracy score for knn is \",train_accuracy)\n",
        "save_model_info(end_fit-start_fit,end_pred-end_fit,'knn',test_score,train_score,train_accuracy,test_accuracy,'KNearestNeighborsClassifier with k as 150')"
      ]
    },
    {
      "cell_type": "code",
      "execution_count": null,
      "metadata": {
        "id": "twqVKzXvbobD",
        "colab": {
          "base_uri": "https://localhost:8080/"
        },
        "outputId": "f57d6c6a-1381-4245-a03e-976acb8cec91"
      },
      "outputs": [
        {
          "output_type": "stream",
          "name": "stdout",
          "text": [
            "Mean no of accurate locations for test  3.8986666666666667\n",
            "Mean no of accurate locations for train  5.0\n",
            "The test accuracy score for Random_forest is  0.9999727891156462\n",
            "The train accuracy score for Random_forest is  0.8966349206349207\n"
          ]
        }
      ],
      "source": [
        "r=RandomForestClassifier(n_estimators=500,max_depth=20,min_samples_split=2,max_features=0.2,random_state=12, max_samples=0.8)\n",
        "rf=MultiOutputClassifier(r)\n",
        "start_fit=time()\n",
        "rf.fit(X_train,y_train)\n",
        "end_fit=time()\n",
        "rf_proba=np.stack(rf.predict_proba(X_test), axis=1 )[:,:,1]\n",
        "rf_train_proba=np.stack(rf.predict_proba(X_train), axis=1 )[:,:,1]\n",
        "end_pred=time()\n",
        "predicted_locs=top_5(rf_proba)\n",
        "test_score=my_metric(predicted_locs,y_test)\n",
        "train_score=my_metric(top_5(rf_train_proba),y_train)\n",
        "print(\"Mean no of accurate locations for test \",test_score )\n",
        "print(\"Mean no of accurate locations for train \",train_score )\n",
        "train_accuracy,test_accuracy=eval_model(rf)\n",
        "print(\"The test accuracy score for Random_forest is \",test_accuracy)\n",
        "print(\"The train accuracy score for Random_forest is \",train_accuracy)\n",
        "save_model_info(end_fit-start_fit,end_pred-end_fit,'rf',test_score,train_score,train_accuracy,test_accuracy,'RandomForest with depth of 20')"
      ]
    },
    {
      "cell_type": "code",
      "execution_count": null,
      "metadata": {
        "id": "ddZAUY3UIbJ1",
        "colab": {
          "base_uri": "https://localhost:8080/"
        },
        "outputId": "deaf4b08-b8c0-4e1b-8e6f-111d777ae346"
      },
      "outputs": [
        {
          "output_type": "stream",
          "name": "stdout",
          "text": [
            "Mean no of accurate locations for test  3.469333333333333\n",
            "Mean no of accurate locations for train  3.5525714285714285\n",
            "Mean no of accurate locations for test  0.8594285714285714\n",
            "Mean no of accurate locations for train  0.8614421768707483\n"
          ]
        }
      ],
      "source": [
        "l=LogisticRegression(C=1,max_iter=1000)\n",
        "lr=MultiOutputClassifier(l)\n",
        "start_fit=time()\n",
        "lr.fit(X_train,y_train)\n",
        "end_fit=time()\n",
        "lr_proba=np.stack(lr.predict_proba(X_test), axis=1 )[:,:,1]\n",
        "lr_train_proba=np.stack(lr.predict_proba(X_train), axis=1 )[:,:,1]\n",
        "end_pred=time()\n",
        "predicted_locs=top_5(lr_proba)\n",
        "test_score=my_metric(predicted_locs,y_test)\n",
        "train_score=my_metric(top_5(lr_train_proba),y_train)\n",
        "print(\"Mean no of accurate locations for test \",test_score )\n",
        "print(\"Mean no of accurate locations for train \",train_score )\n",
        "train_accuracy,test_accuracy=eval_model(lr)\n",
        "print(\"The test accuracy score for logistic regression is \",test_accuracy)\n",
        "print(\"The train accuracy score for logistic regression is \",train_accuracy)\n",
        "save_model_info(end_fit-start_fit,end_pred-end_fit,'lr',test_score,train_score,train_accuracy,test_accuracy,' A basic logistic regression with C as 10')"
      ]
    },
    {
      "cell_type": "code",
      "execution_count": null,
      "metadata": {
        "id": "iL5GlCqlLN3G",
        "colab": {
          "base_uri": "https://localhost:8080/"
        },
        "outputId": "f54a0477-c159-4a74-ae50-63b48d4c641c"
      },
      "outputs": [
        {
          "output_type": "stream",
          "name": "stdout",
          "text": [
            "Mean no of accurate locations for test  3.8453333333333335\n",
            "Mean no of accurate locations for train  4.610285714285714\n",
            "Mean no of accurate locations for test  0.8925079365079365\n",
            "Mean no of accurate locations for train  0.9578231292517007\n"
          ]
        }
      ],
      "source": [
        "xg=XGBClassifier(n_estimators=650 , max_depth=5, learning_rate=0.08,colsample_bytree=0.25,\n",
        "                  random_state=12,subsample=0.8)\n",
        "xgb=MultiOutputClassifier(xg)\n",
        "start_fit=time()\n",
        "xgb.fit(X_train,y_train)\n",
        "end_fit=time()\n",
        "xgb_proba=np.stack(xgb.predict_proba(X_test), axis=1 )[:,:,1]\n",
        "xgb_train_proba=np.stack(xgb.predict_proba(X_train), axis=1 )[:,:,1]\n",
        "end_pred=time()\n",
        "predicted_locs=top_5(xgb_proba)\n",
        "test_score=my_metric(predicted_locs,y_test)\n",
        "train_score=my_metric(top_5(xgb_train_proba),y_train)\n",
        "print(\"Mean no of accurate locations for test \",test_score )\n",
        "print(\"Mean no of accurate locations for train \",train_score )\n",
        "train_accuracy,test_accuracy=eval_model(xgb)\n",
        "print(\"The test accuracy score for XGBoost is \",test_accuracy)\n",
        "print(\"The train accuracy score for XGBoost is \",train_accuracy)\n",
        "save_model_info(end_fit-start_fit,end_pred-end_fit,'xgb',test_score,train_score,train_accuracy,test_accuracy,'A simple xgboost model')"
      ]
    },
    {
      "cell_type": "code",
      "execution_count": null,
      "metadata": {
        "id": "oQsFOssPNIiT",
        "colab": {
          "base_uri": "https://localhost:8080/"
        },
        "outputId": "7e197792-6e2b-49ef-9b45-69ef736608d2"
      },
      "outputs": [
        {
          "output_type": "stream",
          "name": "stdout",
          "text": [
            "Mean no of accurate locations for test  3.9466666666666668\n",
            "Mean no of accurate locations for train  4.958857142857143\n",
            "Mean no of accurate locations for test  0.9021587301587302\n",
            "Mean no of accurate locations for train  0.9924625850340136\n"
          ]
        }
      ],
      "source": [
        "ct= CatBoostClassifier(loss_function= 'MultiClass',learning_rate= 0.08,iterations= 600,depth= 6,\n",
        "                        subsample=0.8,bootstrap_type='Bernoulli',colsample_bylevel=0.2,random_seed= 12,verbose= False)\n",
        "cat=MultiOutputClassifier(ct)\n",
        "start_fit=time()\n",
        "cat.fit(X_train,y_train)\n",
        "end_fit=time()\n",
        "cat_proba=np.stack(cat.predict_proba(X_test), axis=1 )[:,:,1]\n",
        "cat_train_proba=np.stack(cat.predict_proba(X_train), axis=1 )[:,:,1]\n",
        "end_pred=time()\n",
        "predicted_locs=top_5(cat_proba)\n",
        "test_score=my_metric(predicted_locs,y_test)\n",
        "train_score=my_metric(top_5(cat_train_proba),y_train)\n",
        "print(\"Mean no of accurate locations for test \",test_score )\n",
        "print(\"Mean no of accurate locations for train \",train_score )\n",
        "train_accuracy,test_accuracy=eval_model(cat)\n",
        "print(\"The test accuracy score for CATBoost is \",test_accuracy)\n",
        "print(\"The train accuracy score for CATBoost is \",train_accuracy)\n",
        "save_model_info(end_fit-start_fit,end_pred-end_fit,'cat',test_score,train_score,train_accuracy,test_accuracy,'A catboost model')"
      ]
    },
    {
      "cell_type": "code",
      "execution_count": null,
      "metadata": {
        "id": "NoX5e15vPl-E",
        "colab": {
          "base_uri": "https://localhost:8080/"
        },
        "outputId": "fa589fa3-224a-49e4-eeb9-5ddb8bb076a2"
      },
      "outputs": [
        {
          "output_type": "stream",
          "name": "stdout",
          "text": [
            "Mean no of accurate locations for test  3.948\n",
            "Mean no of accurate locations for train  4.978285714285715\n",
            "Mean no of accurate locations for test  0.9008253968253969\n",
            "Mean no of accurate locations for train  0.9941496598639455\n"
          ]
        }
      ],
      "source": [
        "vot=VotingClassifier([('xg',xg),('rf',r),('cat',ct)],voting='soft',weights=[0.2,0.6,0.8])\n",
        "vote=MultiOutputClassifier(vot)\n",
        "start_fit=time()\n",
        "vote.fit(X_train,y_train)\n",
        "end_fit=time()\n",
        "vote_proba=np.stack(vote.predict_proba(X_test), axis=1 )[:,:,1]\n",
        "vote_train_proba=np.stack(vote.predict_proba(X_train), axis=1 )[:,:,1]\n",
        "end_pred=time()\n",
        "predicted_locs=top_5(vote_proba)\n",
        "test_score=my_metric(predicted_locs,y_test)\n",
        "train_score=my_metric(top_5(vote_train_proba),y_train)\n",
        "print(\"Mean no of accurate locations for test \",test_score )\n",
        "print(\"Mean no of accurate locations for train \",train_score )\n",
        "train_accuracy,test_accuracy=eval_model(vote)\n",
        "print(\"The test accuracy score for the Ensemble model is \",test_accuracy)\n",
        "print(\"The train accuracy score for Ensemble model is \",train_accuracy)\n",
        "save_model_info(end_fit-start_fit,end_pred-end_fit,'vote',test_score,train_score,train_accuracy,test_accuracy,'An ensemble of xgboost,random_forest and catboost')"
      ]
    },
    {
      "cell_type": "code",
      "execution_count": null,
      "metadata": {
        "id": "dRmgtSCm877c"
      },
      "outputs": [],
      "source": [
        "results_df=pd.DataFrame({'fit_time(secs)':fit_time,'predict_time(secs)':predict_time,'train_acc':train_acc,'test_acc':test_acc,'train_score':train_scores,'test_score':test_scores,'model':models,'description':descr})\n",
        "results_df.drop_duplicates(['model'],keep='last',inplace=True)\n",
        "results_df2=pd.read_csv('/content/results.csv')\n",
        "results_df=pd.concat([results_df,results_df2])\n",
        "results_df.reset_index(drop=True,inplace=True)"
      ]
    },
    {
      "cell_type": "code",
      "execution_count": null,
      "metadata": {
        "id": "IoJnjcs7jQWY",
        "colab": {
          "base_uri": "https://localhost:8080/",
          "height": 388
        },
        "outputId": "faf94064-c26a-4a0f-eec9-bbe2c6062452"
      },
      "outputs": [
        {
          "output_type": "execute_result",
          "data": {
            "text/plain": [
              "   fit_time(secs)  predict_time(secs)  train_acc  test_acc  train_score  \\\n",
              "0      585.269558            9.473206   0.857397  0.912844     3.693143   \n",
              "1        0.030661            3.624861   0.828190  0.827619     3.334286   \n",
              "2       20.367830            5.682886   0.896635  0.999973     5.000000   \n",
              "3      509.421284            9.612711   0.857397  0.912844     3.693143   \n",
              "4             NaN                 NaN   0.794222  0.793605     2.517714   \n",
              "5             NaN                 NaN   0.879365  0.893524     3.847429   \n",
              "\n",
              "   test_score  model                                description  Unnamed: 0  \\\n",
              "0    3.358667     mc                lvq model with 50 codebooks         NaN   \n",
              "1    3.328000    knn  KNearestNeighborsClassifier with k as 150         NaN   \n",
              "2    3.898667     rf              RandomForest with depth of 20         NaN   \n",
              "3    3.358667  mcLVQ                lvq model with 50 codebooks         NaN   \n",
              "4    2.545333    gnn                              our gnn model         0.0   \n",
              "5    3.681333   base              An artificial neural network          1.0   \n",
              "\n",
              "     fit_time  predict_time  \n",
              "0         NaN           NaN  \n",
              "1         NaN           NaN  \n",
              "2         NaN           NaN  \n",
              "3         NaN           NaN  \n",
              "4  145.457107      3.742680  \n",
              "5   45.347118      0.996642  "
            ],
            "text/html": [
              "\n",
              "  <div id=\"df-838bef61-89d0-434b-bcd4-72ba8d67f9e1\">\n",
              "    <div class=\"colab-df-container\">\n",
              "      <div>\n",
              "<style scoped>\n",
              "    .dataframe tbody tr th:only-of-type {\n",
              "        vertical-align: middle;\n",
              "    }\n",
              "\n",
              "    .dataframe tbody tr th {\n",
              "        vertical-align: top;\n",
              "    }\n",
              "\n",
              "    .dataframe thead th {\n",
              "        text-align: right;\n",
              "    }\n",
              "</style>\n",
              "<table border=\"1\" class=\"dataframe\">\n",
              "  <thead>\n",
              "    <tr style=\"text-align: right;\">\n",
              "      <th></th>\n",
              "      <th>fit_time(secs)</th>\n",
              "      <th>predict_time(secs)</th>\n",
              "      <th>train_acc</th>\n",
              "      <th>test_acc</th>\n",
              "      <th>train_score</th>\n",
              "      <th>test_score</th>\n",
              "      <th>model</th>\n",
              "      <th>description</th>\n",
              "      <th>Unnamed: 0</th>\n",
              "      <th>fit_time</th>\n",
              "      <th>predict_time</th>\n",
              "    </tr>\n",
              "  </thead>\n",
              "  <tbody>\n",
              "    <tr>\n",
              "      <th>0</th>\n",
              "      <td>585.269558</td>\n",
              "      <td>9.473206</td>\n",
              "      <td>0.857397</td>\n",
              "      <td>0.912844</td>\n",
              "      <td>3.693143</td>\n",
              "      <td>3.358667</td>\n",
              "      <td>mc</td>\n",
              "      <td>lvq model with 50 codebooks</td>\n",
              "      <td>NaN</td>\n",
              "      <td>NaN</td>\n",
              "      <td>NaN</td>\n",
              "    </tr>\n",
              "    <tr>\n",
              "      <th>1</th>\n",
              "      <td>0.030661</td>\n",
              "      <td>3.624861</td>\n",
              "      <td>0.828190</td>\n",
              "      <td>0.827619</td>\n",
              "      <td>3.334286</td>\n",
              "      <td>3.328000</td>\n",
              "      <td>knn</td>\n",
              "      <td>KNearestNeighborsClassifier with k as 150</td>\n",
              "      <td>NaN</td>\n",
              "      <td>NaN</td>\n",
              "      <td>NaN</td>\n",
              "    </tr>\n",
              "    <tr>\n",
              "      <th>2</th>\n",
              "      <td>20.367830</td>\n",
              "      <td>5.682886</td>\n",
              "      <td>0.896635</td>\n",
              "      <td>0.999973</td>\n",
              "      <td>5.000000</td>\n",
              "      <td>3.898667</td>\n",
              "      <td>rf</td>\n",
              "      <td>RandomForest with depth of 20</td>\n",
              "      <td>NaN</td>\n",
              "      <td>NaN</td>\n",
              "      <td>NaN</td>\n",
              "    </tr>\n",
              "    <tr>\n",
              "      <th>3</th>\n",
              "      <td>509.421284</td>\n",
              "      <td>9.612711</td>\n",
              "      <td>0.857397</td>\n",
              "      <td>0.912844</td>\n",
              "      <td>3.693143</td>\n",
              "      <td>3.358667</td>\n",
              "      <td>mcLVQ</td>\n",
              "      <td>lvq model with 50 codebooks</td>\n",
              "      <td>NaN</td>\n",
              "      <td>NaN</td>\n",
              "      <td>NaN</td>\n",
              "    </tr>\n",
              "    <tr>\n",
              "      <th>4</th>\n",
              "      <td>NaN</td>\n",
              "      <td>NaN</td>\n",
              "      <td>0.794222</td>\n",
              "      <td>0.793605</td>\n",
              "      <td>2.517714</td>\n",
              "      <td>2.545333</td>\n",
              "      <td>gnn</td>\n",
              "      <td>our gnn model</td>\n",
              "      <td>0.0</td>\n",
              "      <td>145.457107</td>\n",
              "      <td>3.742680</td>\n",
              "    </tr>\n",
              "    <tr>\n",
              "      <th>5</th>\n",
              "      <td>NaN</td>\n",
              "      <td>NaN</td>\n",
              "      <td>0.879365</td>\n",
              "      <td>0.893524</td>\n",
              "      <td>3.847429</td>\n",
              "      <td>3.681333</td>\n",
              "      <td>base</td>\n",
              "      <td>An artificial neural network</td>\n",
              "      <td>1.0</td>\n",
              "      <td>45.347118</td>\n",
              "      <td>0.996642</td>\n",
              "    </tr>\n",
              "  </tbody>\n",
              "</table>\n",
              "</div>\n",
              "      <button class=\"colab-df-convert\" onclick=\"convertToInteractive('df-838bef61-89d0-434b-bcd4-72ba8d67f9e1')\"\n",
              "              title=\"Convert this dataframe to an interactive table.\"\n",
              "              style=\"display:none;\">\n",
              "        \n",
              "  <svg xmlns=\"http://www.w3.org/2000/svg\" height=\"24px\"viewBox=\"0 0 24 24\"\n",
              "       width=\"24px\">\n",
              "    <path d=\"M0 0h24v24H0V0z\" fill=\"none\"/>\n",
              "    <path d=\"M18.56 5.44l.94 2.06.94-2.06 2.06-.94-2.06-.94-.94-2.06-.94 2.06-2.06.94zm-11 1L8.5 8.5l.94-2.06 2.06-.94-2.06-.94L8.5 2.5l-.94 2.06-2.06.94zm10 10l.94 2.06.94-2.06 2.06-.94-2.06-.94-.94-2.06-.94 2.06-2.06.94z\"/><path d=\"M17.41 7.96l-1.37-1.37c-.4-.4-.92-.59-1.43-.59-.52 0-1.04.2-1.43.59L10.3 9.45l-7.72 7.72c-.78.78-.78 2.05 0 2.83L4 21.41c.39.39.9.59 1.41.59.51 0 1.02-.2 1.41-.59l7.78-7.78 2.81-2.81c.8-.78.8-2.07 0-2.86zM5.41 20L4 18.59l7.72-7.72 1.47 1.35L5.41 20z\"/>\n",
              "  </svg>\n",
              "      </button>\n",
              "      \n",
              "  <style>\n",
              "    .colab-df-container {\n",
              "      display:flex;\n",
              "      flex-wrap:wrap;\n",
              "      gap: 12px;\n",
              "    }\n",
              "\n",
              "    .colab-df-convert {\n",
              "      background-color: #E8F0FE;\n",
              "      border: none;\n",
              "      border-radius: 50%;\n",
              "      cursor: pointer;\n",
              "      display: none;\n",
              "      fill: #1967D2;\n",
              "      height: 32px;\n",
              "      padding: 0 0 0 0;\n",
              "      width: 32px;\n",
              "    }\n",
              "\n",
              "    .colab-df-convert:hover {\n",
              "      background-color: #E2EBFA;\n",
              "      box-shadow: 0px 1px 2px rgba(60, 64, 67, 0.3), 0px 1px 3px 1px rgba(60, 64, 67, 0.15);\n",
              "      fill: #174EA6;\n",
              "    }\n",
              "\n",
              "    [theme=dark] .colab-df-convert {\n",
              "      background-color: #3B4455;\n",
              "      fill: #D2E3FC;\n",
              "    }\n",
              "\n",
              "    [theme=dark] .colab-df-convert:hover {\n",
              "      background-color: #434B5C;\n",
              "      box-shadow: 0px 1px 3px 1px rgba(0, 0, 0, 0.15);\n",
              "      filter: drop-shadow(0px 1px 2px rgba(0, 0, 0, 0.3));\n",
              "      fill: #FFFFFF;\n",
              "    }\n",
              "  </style>\n",
              "\n",
              "      <script>\n",
              "        const buttonEl =\n",
              "          document.querySelector('#df-838bef61-89d0-434b-bcd4-72ba8d67f9e1 button.colab-df-convert');\n",
              "        buttonEl.style.display =\n",
              "          google.colab.kernel.accessAllowed ? 'block' : 'none';\n",
              "\n",
              "        async function convertToInteractive(key) {\n",
              "          const element = document.querySelector('#df-838bef61-89d0-434b-bcd4-72ba8d67f9e1');\n",
              "          const dataTable =\n",
              "            await google.colab.kernel.invokeFunction('convertToInteractive',\n",
              "                                                     [key], {});\n",
              "          if (!dataTable) return;\n",
              "\n",
              "          const docLinkHtml = 'Like what you see? Visit the ' +\n",
              "            '<a target=\"_blank\" href=https://colab.research.google.com/notebooks/data_table.ipynb>data table notebook</a>'\n",
              "            + ' to learn more about interactive tables.';\n",
              "          element.innerHTML = '';\n",
              "          dataTable['output_type'] = 'display_data';\n",
              "          await google.colab.output.renderOutput(dataTable, element);\n",
              "          const docLink = document.createElement('div');\n",
              "          docLink.innerHTML = docLinkHtml;\n",
              "          element.appendChild(docLink);\n",
              "        }\n",
              "      </script>\n",
              "    </div>\n",
              "  </div>\n",
              "  "
            ]
          },
          "metadata": {},
          "execution_count": 28
        }
      ],
      "source": [
        "results_df"
      ]
    },
    {
      "cell_type": "code",
      "execution_count": null,
      "metadata": {
        "id": "ajHumeKzjSDD",
        "colab": {
          "base_uri": "https://localhost:8080/",
          "height": 295
        },
        "outputId": "d75ecade-070c-4d13-94b3-f06e6558737d"
      },
      "outputs": [
        {
          "output_type": "display_data",
          "data": {
            "text/plain": [
              "<Figure size 432x288 with 1 Axes>"
            ],
            "image/png": "[encoded data removed]"
          },
          "metadata": {
            "needs_background": "light"
          }
        }
      ],
      "source": [
        "sns.barplot(data=results_df,x='model',y='fit_time')\n",
        "plt.title('A plot showing the fitt_time for each model')\n",
        "plt.show()"
      ]
    },
    {
      "cell_type": "code",
      "execution_count": null,
      "metadata": {
        "id": "XS26qpJdc6Su",
        "colab": {
          "base_uri": "https://localhost:8080/",
          "height": 295
        },
        "outputId": "010db0b0-011d-4ae2-ee29-494e4b0a8baf"
      },
      "outputs": [
        {
          "output_type": "display_data",
          "data": {
            "text/plain": [
              "<Figure size 432x288 with 1 Axes>"
            ],
            "image/png": "[encoded data removed]"
          },
          "metadata": {
            "needs_background": "light"
          }
        }
      ],
      "source": [
        "sns.barplot(data=results_df,x='model',y='predict_time')\n",
        "plt.title('A plot showing the prediction_time for each model')\n",
        "plt.show()"
      ]
    },
    {
      "cell_type": "code",
      "execution_count": null,
      "metadata": {
        "id": "WIlkuE7teIul",
        "colab": {
          "base_uri": "https://localhost:8080/",
          "height": 295
        },
        "outputId": "4b80a13e-6c03-4b2d-c855-ec38d3384dd3"
      },
      "outputs": [
        {
          "output_type": "display_data",
          "data": {
            "text/plain": [
              "<Figure size 432x288 with 1 Axes>"
            ],
            "image/png": "[encoded data removed]"
          },
          "metadata": {
            "needs_background": "light"
          }
        }
      ],
      "source": [
        "sns.barplot(data=results_df,x='model',y='test_acc')\n",
        "plt.title('A plot showing the test_accuracy for each model')\n",
        "plt.show()"
      ]
    },
    {
      "cell_type": "code",
      "execution_count": null,
      "metadata": {
        "id": "41e99en-ewry",
        "colab": {
          "base_uri": "https://localhost:8080/",
          "height": 295
        },
        "outputId": "3cc1d7d6-87c2-46e5-8a33-e6753033ee0a"
      },
      "outputs": [
        {
          "output_type": "display_data",
          "data": {
            "text/plain": [
              "<Figure size 432x288 with 1 Axes>"
            ],
            "image/png": "[encoded data removed]"
          },
          "metadata": {
            "needs_background": "light"
          }
        }
      ],
      "source": [
        "sns.barplot(data=results_df,x='model',y='train_acc',palette = \"Blues\")\n",
        "plt.title('A plot showing the train_accuracy for each model')\n",
        "plt.show()"
      ]
    },
    {
      "cell_type": "code",
      "execution_count": null,
      "metadata": {
        "id": "5CniTEyBoCEZ",
        "colab": {
          "base_uri": "https://localhost:8080/",
          "height": 517
        },
        "outputId": "192363ef-ebcc-4b83-9a46-faa807168644"
      },
      "outputs": [
        {
          "output_type": "display_data",
          "data": {
            "text/plain": [
              "<Figure size 864x576 with 1 Axes>"
            ],
            "image/png": "[encoded data removed]"
          },
          "metadata": {
            "needs_background": "light"
          }
        }
      ],
      "source": [
        "results_df.plot(y=['train_acc','test_acc'],x='model',kind='bar', stacked=False, color=['red', 'skyblue'],figsize=(12,8))\n",
        "plt.title('A plot showing the train and test accuracy for each model')\n",
        "plt.show()"
      ]
    },
    {
      "cell_type": "code",
      "source": [
        "results_df.plot(y=['train_score','test_score'],x='model',kind='bar', stacked=False, color=['red', 'skyblue'],figsize=(12,8))\n",
        "plt.title('A plot showing the train and test score for each model')\n",
        "plt.show()"
      ],
      "metadata": {
        "colab": {
          "base_uri": "https://localhost:8080/",
          "height": 523
        },
        "id": "1evN-ATyM56h",
        "outputId": "68e4149e-916d-4a19-86e1-5bfa2de0d8a4"
      },
      "execution_count": null,
      "outputs": [
        {
          "output_type": "display_data",
          "data": {
            "text/plain": [
              "<Figure size 864x576 with 1 Axes>"
            ],
            "image/png": "[encoded data removed]"
          },
          "metadata": {
            "needs_background": "light"
          }
        }
      ]
    },
    {
      "cell_type": "code",
      "execution_count": null,
      "metadata": {
        "id": "XLEpKc1Wfzw7",
        "colab": {
          "base_uri": "https://localhost:8080/",
          "height": 515
        },
        "outputId": "21a9e9ac-b9c8-4367-ff56-9a2f9f71dff6"
      },
      "outputs": [
        {
          "output_type": "display_data",
          "data": {
            "text/plain": [
              "<Figure size 864x576 with 1 Axes>"
            ],
            "image/png": "[encoded data removed]"
          },
          "metadata": {
            "needs_background": "light"
          }
        }
      ],
      "source": [
        "results_df.plot(y=['fit_time','predict_time'],x='model',kind='bar', stacked=True, color=['red', 'skyblue'],figsize=(12,8))\n",
        "plt.title('A plot showing the prediction and fit time of each model')\n",
        "plt.show()"
      ]
    },
    {
      "cell_type": "code",
      "source": [],
      "metadata": {
        "id": "m-dNUb_LRhq8"
      },
      "execution_count": null,
      "outputs": []
    }
  ],
  "metadata": {
    "colab": {
      "provenance": []
    },
    "kernelspec": {
      "display_name": "Python 3",
      "name": "python3"
    },
    "language_info": {
      "name": "python"
    }
  },
  "nbformat": 4,
  "nbformat_minor": 0
}